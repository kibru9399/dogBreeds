{
 "cells": [
  {
   "cell_type": "markdown",
   "id": "1ed3f7d5",
   "metadata": {},
   "source": [
    "<img src=\"active endpoint.png\" alt=\"Alternative text\" />"
   ]
  },
  {
   "cell_type": "markdown",
   "id": "3d18f571",
   "metadata": {},
   "source": [
    "# Image Classification using AWS SageMaker\n",
    "\n",
    "Use AWS Sagemaker to train a pretrained model that can perform image classification by using the Sagemaker profiling, debugger, hyperparameter tuning and other good ML engineering practices. This can be done on either the provided dog breed classication data set or one of your choice.\n",
    "\n",
    "## Project Set Up and Installation\n",
    "Enter AWS through the gateway in the course and open SageMaker Studio. \n",
    "Download the starter files.\n",
    "Download/Make the dataset available. \n",
    "## EXPLANATION OF THE USED FILES\n",
    "\n",
    "hpo.py containes the code for running the hyper parameter tuning jobs.\n",
    "train_model.py containes the code for training and profiling/debugging.\n",
    "inference2.py is a separate script for the model entrypoint for the deployement.\n",
    "\n",
    "## Dataset\n",
    "The provided dataset is the dogbreed classification dataset which can be found in the classroom.\n",
    "The project is designed to be dataset independent so if there is a dataset that is more interesting or relevant to your work, you are welcome to use it to complete the project.\n",
    "\n",
    "### Access\n",
    "Upload the data to an S3 bucket through the AWS Gateway so that SageMaker has access to the data. \n",
    "\n",
    "## Hyperparameter Tuning\n",
    "What kind of model did you choose for this experiment and why? Give an overview of the types of parameters and their ranges used for the hyperparameter search\n",
    "\n",
    "Remember that your README should:\n",
    "- Include a screenshot of completed training jobs\n",
    "<img src=\"projectImage/training_job.png\" alt=\"training job for hyperparameter tunining\" />\n",
    "- Logs metrics during the training process\n",
    "<img src= \"projectImage/log_1.png\" alt=\"Alternative text\" />\n",
    "<img src=\"projectImage/log_2.png\" alt=\"Alternative text\" />\n",
    "<img src=\"projectImage/log_3.png\" alt=\"Alternative text\" />\n",
    "<img src=\"projectImage/log_4.png\" alt=\"Alternative text\" />\n",
    "- Tune at least two hyperparameters\n",
    "- Retrieve the best best hyperparameters from all your training jobs\n",
    "\n",
    "## Debugging and Profiling\n",
    "**TODO**: Give an overview of how you performed model debugging and profiling in Sagemaker\n",
    "I made the debugging and profiling to look for issuers during the training process. The debugger and the profiler have looked for the following issues and reported the finding. The issues include overtraining, loss_not_decreasing, poor_weight_initialization, ProfilerReport, CPUBottleneck, OverallSystemUsage.\n",
    "\n",
    "### Results\n",
    "**TODO**: What are the results/insights did you get by profiling/debugging your model?\n",
    "I made the profiling and debugging to look for many issues. The debugger found that there is a PoorWeightInitialization problem. \n",
    "**TODO** Remember to provide the profiler html/pdf file in your submission.\n",
    "\n",
    "\n",
    "## Model Deployment\n",
    "**TODO**: Give an overview of the deployed model and instructions on how to query the endpoint with a sample input.\n",
    "The model has been deployed, it will classify among the 133 dog classes. setting the path of the image to image_path will be enough to obtain the prediction from the endpoint.\n",
    "**TODO** Remember to provide a screenshot of the deployed active endpoint in Sagemaker.\n",
    "<img src=\"projectImage/endpoint.png\" alt=\"Alternative text\" />\n",
    "\n",
    "## Standout Suggestions\n",
    "**TODO (Optional):** This is where you can provide information about any standout suggestions that you have attempted.\n"
   ]
  },
  {
   "cell_type": "code",
   "execution_count": null,
   "id": "1c994db7",
   "metadata": {},
   "outputs": [],
   "source": []
  }
 ],
 "metadata": {
  "kernelspec": {
   "display_name": "Python 3 (ipykernel)",
   "language": "python",
   "name": "python3"
  },
  "language_info": {
   "codemirror_mode": {
    "name": "ipython",
    "version": 3
   },
   "file_extension": ".py",
   "mimetype": "text/x-python",
   "name": "python",
   "nbconvert_exporter": "python",
   "pygments_lexer": "ipython3",
   "version": "3.9.12"
  }
 },
 "nbformat": 4,
 "nbformat_minor": 5
}
